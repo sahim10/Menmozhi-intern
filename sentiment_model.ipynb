{
 "cells": [
  {
   "cell_type": "code",
   "execution_count": 26,
   "id": "immune-northeast",
   "metadata": {},
   "outputs": [],
   "source": [
    "import pandas as pd \n",
    "import numpy as np \n",
    "import pickle\n",
    "from sklearn.model_selection import train_test_split\n",
    "from sklearn.naive_bayes import MultinomialNB\n",
    "from sklearn.pipeline import Pipeline\n",
    "from sklearn.feature_extraction.text import TfidfVectorizer\n",
    "\n",
    "df= pd.read_csv(\"all_kindle_review.csv\")\n",
    "df = df.dropna()\n",
    "df.drop(['Unnamed: 0', 'Unnamed: 0.1'], axis=1, inplace=True)\n",
    "    \n",
    "df.loc[(df['rating']==2)|(df['rating']==1),'rating']= -1\n",
    "df.loc[df['rating']==3,'rating']= 0\n",
    "df.loc[(df['rating']==4)|(df['rating']==5),'rating']= 1\n",
    "\n",
    "df['summary'] = df['summary'].apply(lambda x:x.lower())\n",
    "    \n",
    "X = df['summary']\n",
    "y = df['rating']\n",
    "    \n",
    "# Extract Feature With tfidfVectorizer\n",
    "    \n",
    "tf=TfidfVectorizer(ngram_range=(1,1), use_idf=1,lowercase=True)\n",
    "X_train, X_test, y_train, y_test = train_test_split(X, y, test_size=0.33, random_state=42)\n",
    "\n",
    "#Naive Bayes Classifier\n",
    "x_train = tf.fit_transform(X_train)\n",
    "\n",
    "clf = MultinomialNB()\n",
    "    \n",
    "clf.fit(x_train,y_train)\n",
    "    \n",
    "pred= clf.predict(tf.transform(X_test))\n",
    "\n",
    "#pickle.dump(clf, open('sentiment_model.pkl','wb'))\n",
    "#model = pickle.load(open('sentiment_model.pkl','rb'))"
   ]
  },
  {
   "cell_type": "code",
   "execution_count": 27,
   "id": "duplicate-philosophy",
   "metadata": {},
   "outputs": [],
   "source": [
    "pili = Pipeline(steps=[('tfidf',TfidfVectorizer(ngram_range=(1,1),use_idf=1,lowercase=True)),('clf',MultinomialNB())])"
   ]
  },
  {
   "cell_type": "code",
   "execution_count": 28,
   "id": "graphic-emergency",
   "metadata": {},
   "outputs": [
    {
     "data": {
      "text/plain": [
       "Pipeline(steps=[('tfidf', TfidfVectorizer(use_idf=1)),\n",
       "                ('clf', MultinomialNB())])"
      ]
     },
     "execution_count": 28,
     "metadata": {},
     "output_type": "execute_result"
    }
   ],
   "source": [
    "pili.fit(X_train,y_train)"
   ]
  },
  {
   "cell_type": "code",
   "execution_count": 30,
   "id": "fifth-scheme",
   "metadata": {},
   "outputs": [
    {
     "data": {
      "text/plain": [
       "['text_classification.joblib']"
      ]
     },
     "execution_count": 30,
     "metadata": {},
     "output_type": "execute_result"
    }
   ],
   "source": [
    "from joblib import dump\n",
    "\n",
    "# dump the pipeline model\n",
    "dump(pili, filename=\"text_classification.joblib\")"
   ]
  },
  {
   "cell_type": "code",
   "execution_count": 34,
   "id": "subsequent-service",
   "metadata": {},
   "outputs": [
    {
     "data": {
      "text/plain": [
       "array([1], dtype=int64)"
      ]
     },
     "execution_count": 34,
     "metadata": {},
     "output_type": "execute_result"
    }
   ],
   "source": [
    "from joblib import load\n",
    "\n",
    "# sample tweet text\n",
    "text = [\"good\"]\n",
    "\n",
    "# load the saved pipleine model\n",
    "pipeline = load(\"text_classification.joblib\")\n",
    "\n",
    "# predict on the sample tweet text\n",
    "pipeline.predict(text)"
   ]
  },
  {
   "cell_type": "code",
   "execution_count": null,
   "id": "general-matter",
   "metadata": {},
   "outputs": [],
   "source": []
  }
 ],
 "metadata": {
  "kernelspec": {
   "display_name": "Python 3",
   "language": "python",
   "name": "python3"
  },
  "language_info": {
   "codemirror_mode": {
    "name": "ipython",
    "version": 3
   },
   "file_extension": ".py",
   "mimetype": "text/x-python",
   "name": "python",
   "nbconvert_exporter": "python",
   "pygments_lexer": "ipython3",
   "version": "3.9.1"
  }
 },
 "nbformat": 4,
 "nbformat_minor": 5
}
